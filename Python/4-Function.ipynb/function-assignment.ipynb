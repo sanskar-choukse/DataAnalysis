{
 "cells": [
  {
   "cell_type": "markdown",
   "metadata": {},
   "source": [
    "# Module 4: Functions Assignments\n",
    "## Lesson 4.1: Defining Functions\n",
    "### Assignment 1: Simple Function\n",
    "\n",
    "Define a function that takes a single integer as input and returns its square. Test the function with different inputs."
   ]
  },
  {
   "cell_type": "code",
   "execution_count": null,
   "metadata": {},
   "outputs": [
    {
     "name": "stdout",
     "output_type": "stream",
     "text": [
      "4\n",
      "25\n"
     ]
    }
   ],
   "source": [
    "def  square(x):\n",
    "    return x**2\n",
    "# Test\n",
    "print(square(2))\n",
    "print(square(5))"
   ]
  },
  {
   "cell_type": "markdown",
   "metadata": {},
   "source": [
    "### Assignment 2: Multiple Arguments\n",
    "\n",
    "Define a function that takes two integers as input and returns their sum. Test the function with different inputs."
   ]
  },
  {
   "cell_type": "code",
   "execution_count": null,
   "metadata": {},
   "outputs": [
    {
     "name": "stdout",
     "output_type": "stream",
     "text": [
      "the sum is:20\n",
      "the sum is:70\n"
     ]
    }
   ],
   "source": [
    "def  sum(x,y):\n",
    "    return x+y\n",
    "# Test\n",
    "print(f\"the sum is:{sum(10,10)}\")\n",
    "print(f\"the sum is:{sum(50,20)}\")"
   ]
  },
  {
   "cell_type": "markdown",
   "metadata": {},
   "source": [
    "### Assignment 3: Default Arguments\n",
    "\n",
    "Define a function that takes two integers as input and returns their sum. The second integer should have a default value of 5. Test the function with different inputs."
   ]
  },
  {
   "cell_type": "code",
   "execution_count": null,
   "metadata": {},
   "outputs": [
    {
     "data": {
      "text/plain": [
       "17"
      ]
     },
     "execution_count": 11,
     "metadata": {},
     "output_type": "execute_result"
    }
   ],
   "source": [
    "def  sum(x,y=5):\n",
    "    return x+y\n",
    "# Test\n",
    "sum(12)"
   ]
  },
  {
   "cell_type": "markdown",
   "metadata": {},
   "source": [
    "### Assignment 4: Keyword Arguments\n",
    "\n",
    "Define a function that takes three named arguments: first_name, last_name, and age, and returns a formatted string. Test the function with different inputs."
   ]
  },
  {
   "cell_type": "code",
   "execution_count": 15,
   "metadata": {},
   "outputs": [
    {
     "name": "stdout",
     "output_type": "stream",
     "text": [
      "Akshat chouksey is 21 year old\n",
      "sanskar Chouksey is 21 year old\n"
     ]
    }
   ],
   "source": [
    "def str(first_name,last_name,age):\n",
    "    return f\"{first_name} {last_name} is {age} year old\"\n",
    "\n",
    "print(str(last_name=\"chouksey\",age=21,first_name=\"Akshat\"))\n",
    "print(str(\"sanskar\",\"Chouksey\",21))\n"
   ]
  },
  {
   "cell_type": "markdown",
   "metadata": {},
   "source": [
    "### Assignment 5: Variable-length Arguments\n",
    "\n",
    "Define a function that takes a variable number of integer arguments and returns their product. Test the function with different inputs."
   ]
  },
  {
   "cell_type": "code",
   "execution_count": 2,
   "metadata": {},
   "outputs": [
    {
     "name": "stdout",
     "output_type": "stream",
     "text": [
      "24\n",
      "120\n",
      "720\n"
     ]
    }
   ],
   "source": [
    "def multi(*args):\n",
    "    product=1    \n",
    "    for num in args:\n",
    "        product*=num\n",
    "    return product\n",
    "\n",
    "# Test \n",
    "print(multi(1,2,3,4)) #24\n",
    "print(multi(1,2,3,4,5))  #120\n",
    "print(multi(1,2,3,4,5,6))"
   ]
  },
  {
   "cell_type": "markdown",
   "metadata": {},
   "source": [
    "### Assignment 6: Nested Functions\n",
    "\n",
    "Define a function that contains another function inside it. The outer function should take two integers as input and return the result of the inner function, which multiplies the two integers. Test the function with different inputs."
   ]
  },
  {
   "cell_type": "code",
   "execution_count": null,
   "metadata": {},
   "outputs": [
    {
     "name": "stdout",
     "output_type": "stream",
     "text": [
      "6\n",
      "9\n"
     ]
    }
   ],
   "source": [
    "def outer_function(x,y):\n",
    "    def inner_function(a,b):\n",
    "        return a*b\n",
    "    return inner_function(x,y)\n",
    "\n",
    "# Test\n",
    "print(outer_function(2,3)) #6\n",
    "print(outer_function(3,3)) #9"
   ]
  },
  {
   "cell_type": "markdown",
   "metadata": {},
   "source": [
    "### Assignment 7: Returning Multiple Values\n",
    "\n",
    "Define a function that takes a single integer as input and returns the integer squared, cubed, and raised to the power of four. Test the function with different inputs."
   ]
  },
  {
   "cell_type": "code",
   "execution_count": 20,
   "metadata": {},
   "outputs": [
    {
     "name": "stdout",
     "output_type": "stream",
     "text": [
      "(4, 8, 16)\n",
      "(16, 64, 256)\n"
     ]
    }
   ],
   "source": [
    "def single(n):\n",
    "    return n**2,n**3,n**4\n",
    "\n",
    "# Test\n",
    "print(single(2))\n",
    "print(single(4))\n"
   ]
  },
  {
   "cell_type": "markdown",
   "metadata": {},
   "source": [
    "### Assignment 8: Recursive Function\n",
    "\n",
    "Define a recursive function that calculates the factorial of a given number. Test the function with different inputs."
   ]
  },
  {
   "cell_type": "code",
   "execution_count": null,
   "metadata": {},
   "outputs": [
    {
     "name": "stdout",
     "output_type": "stream",
     "text": [
      "120\n",
      "720\n"
     ]
    }
   ],
   "source": [
    "def factorial(n):\n",
    "    if n == 0:\n",
    "        return 1\n",
    "    else:  \n",
    "        return n*factorial(n-1)\n",
    "\n",
    "print(factorial(5))  #120\n",
    "print(factorial(6))  #720"
   ]
  },
  {
   "cell_type": "markdown",
   "metadata": {},
   "source": [
    "### Assignment 9: Lambda Function\n",
    "\n",
    "Define a lambda function that takes two integers as input and returns their sum. Test the lambda function with different inputs."
   ]
  },
  {
   "cell_type": "code",
   "execution_count": 29,
   "metadata": {},
   "outputs": [
    {
     "name": "stdout",
     "output_type": "stream",
     "text": [
      "5\n",
      "17\n"
     ]
    }
   ],
   "source": [
    "sum=lambda x,y:x+y \n",
    "print(sum(2,3))\n",
    "print(sum(9,8))"
   ]
  },
  {
   "cell_type": "markdown",
   "metadata": {},
   "source": [
    "### Assignment 10: Map Function\n",
    "\n",
    "Use the map function to apply a lambda function that squares each number in a list of integers. Test with different lists."
   ]
  },
  {
   "cell_type": "code",
   "execution_count": 31,
   "metadata": {},
   "outputs": [
    {
     "name": "stdout",
     "output_type": "stream",
     "text": [
      "[1, 4, 9, 16, 25]\n"
     ]
    }
   ],
   "source": [
    "number=[1,2,3,4,5]\n",
    "square_number=list(map(lambda x:x**2,number))\n",
    "print(square_number)"
   ]
  },
  {
   "cell_type": "markdown",
   "metadata": {},
   "source": [
    "### Assignment 11: Filter Function\n",
    "\n",
    "Use the filter function to filter out all odd numbers from a list of integers. Test with different lists."
   ]
  },
  {
   "cell_type": "code",
   "execution_count": 32,
   "metadata": {},
   "outputs": [
    {
     "name": "stdout",
     "output_type": "stream",
     "text": [
      "[1, 3, 5, 7, 9]\n"
     ]
    }
   ],
   "source": [
    "number=[1,2,3,4,5,6,7,8,9,10]\n",
    "odd_number=list(filter(lambda x:x%2!=0,number))\n",
    "print(odd_number)"
   ]
  },
  {
   "cell_type": "markdown",
   "metadata": {},
   "source": [
    "### Assignment 12: Function Decorator\n",
    "\n",
    "Define a decorator function that prints 'Executing function...' before executing a function and 'Function executed.' after executing it. Apply this decorator to a function that takes a list of integers and returns their sum. Test the decorated function with different lists."
   ]
  },
  {
   "cell_type": "code",
   "execution_count": null,
   "metadata": {},
   "outputs": [],
   "source": [
    "def my_decorator(func):\n",
    "    def wrapper(*args, **kwargs):\n",
    "        print('Executing function...')\n",
    "        result = func(*args, **kwargs)\n",
    "        print('Function executed.')\n",
    "        return result\n",
    "    return wrapper\n",
    "\n",
    "@my_decorator\n",
    "def sum_list(lst):\n",
    "    return sum(lst)\n",
    "\n",
    "# Test\n",
    "print(sum_list([1, 2, 3, 4, 5]))  # 15"
   ]
  },
  {
   "cell_type": "markdown",
   "metadata": {},
   "source": [
    "### Assignment 13: Function with *args and **kwargs\n",
    "\n",
    "Define a function that takes variable-length arguments and keyword arguments and prints them. Test the function with different inputs."
   ]
  },
  {
   "cell_type": "code",
   "execution_count": 40,
   "metadata": {},
   "outputs": [
    {
     "name": "stdout",
     "output_type": "stream",
     "text": [
      "args ('sanskar', 1, 2, 3)\n",
      "kwargs {'name': 'shiv', 'age': 21}\n",
      "args ('a', 'b', 'c', 2)\n",
      "kwargs {'name': 'shukvimla', 'age': 23}\n"
     ]
    }
   ],
   "source": [
    "def arg_kwrgs(*args,**kwargs):\n",
    "    print('args',args)\n",
    "    print('kwargs',kwargs)\n",
    "\n",
    "arg_kwrgs(\"sanskar\",1,2,3,name=\"shiv\",age=21)\n",
    "arg_kwrgs('a','b','c',2,name='shukvimla',age=23) "
   ]
  },
  {
   "cell_type": "markdown",
   "metadata": {},
   "source": [
    "### Assignment 14: Higher-Order Function\n",
    "\n",
    "Define a higher-order function that takes a function and a list of integers as arguments, and applies the function to each integer in the list. Test with different functions and lists."
   ]
  },
  {
   "cell_type": "code",
   "execution_count": 41,
   "metadata": {},
   "outputs": [
    {
     "name": "stdout",
     "output_type": "stream",
     "text": [
      "[1, 4, 9, 16, 25]\n",
      "[2, 3, 4, 5, 6]\n"
     ]
    }
   ],
   "source": [
    "def apply_function(fun,lst):\n",
    "    return [fun(x) for x in lst]\n",
    "\n",
    "#Test\n",
    "print(apply_function(lambda x:x**2,[1,2,3,4,5]))\n",
    "print(apply_function(lambda x:x+1,[1,2,3,4,5]))\n"
   ]
  },
  {
   "cell_type": "markdown",
   "metadata": {},
   "source": [
    "### Assignment 15: Function Documentation\n",
    "\n",
    "Define a function with a docstring that explains what the function does, its parameters, and its return value. Print the function's docstring."
   ]
  },
  {
   "cell_type": "code",
   "execution_count": 1,
   "metadata": {},
   "outputs": [
    {
     "name": "stdout",
     "output_type": "stream",
     "text": [
      "\n",
      "This function takes two integers and returns their sum.\n",
      "\n",
      "Parameters:\n",
      "x (int): The first integer.\n",
      "y (int): The second integer.\n",
      "\n",
      "Returns:\n",
      "int: The sum of the two integers.\n",
      "\n"
     ]
    }
   ],
   "source": [
    "def example_function(x, y):\n",
    "    \"\"\"\n",
    "    This function takes two integers and returns their sum.\n",
    "\n",
    "    Parameters:\n",
    "    x (int): The first integer.\n",
    "    y (int): The second integer.\n",
    "\n",
    "    Returns:\n",
    "    int: The sum of the two integers.\n",
    "    \"\"\"\n",
    "    return x + y\n",
    "\n",
    "# Print docstring\n",
    "print(example_function.__doc__)"
   ]
  },
  {
   "cell_type": "code",
   "execution_count": null,
   "metadata": {},
   "outputs": [],
   "source": []
  }
 ],
 "metadata": {
  "kernelspec": {
   "display_name": "Python 3",
   "language": "python",
   "name": "python3"
  },
  "language_info": {
   "codemirror_mode": {
    "name": "ipython",
    "version": 3
   },
   "file_extension": ".py",
   "mimetype": "text/x-python",
   "name": "python",
   "nbconvert_exporter": "python",
   "pygments_lexer": "ipython3",
   "version": "3.13.2"
  }
 },
 "nbformat": 4,
 "nbformat_minor": 2
}
