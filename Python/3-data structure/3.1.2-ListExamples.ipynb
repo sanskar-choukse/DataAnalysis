{
 "cells": [
  {
   "cell_type": "markdown",
   "metadata": {},
   "source": [
    "#### Real-World Examples Using Lists in Python\n",
    "Lists are one of the most commonly used data structures in Python, thanks to their versatility and ease of use. Here are several practical examples that illustrate their use in real-world scenarios"
   ]
  },
  {
   "cell_type": "markdown",
   "metadata": {},
   "source": [
    "##### Example 1. Manage A To Do List\n",
    "- Create a To Do List To Keep Track OF Tasks"
   ]
  },
  {
   "cell_type": "code",
   "execution_count": 1,
   "metadata": {},
   "outputs": [
    {
     "name": "stdout",
     "output_type": "stream",
     "text": [
      "Don't forget to pay the  utility bill\n",
      "To Do List remaining\n",
      "clean the house\n",
      "pay bills\n",
      "fixed time\n",
      "Go for a run\n"
     ]
    }
   ],
   "source": [
    "to_do_list=[\"Buy 1 get 1\",\"clean the house\",\"pay bills\"]\n",
    "\n",
    "# adding the task\n",
    "to_do_list.append(\"fixed time\")\n",
    "to_do_list.append(\"Go for a run\")\n",
    "\n",
    "\n",
    "# removing a completed task\n",
    "to_do_list.remove(\"Buy 1 get 1\")\n",
    "\n",
    "# checking if a task is in the list\n",
    "if \"pay bills\" in to_do_list:\n",
    "    print(\"Don't forget to pay the  utility bill\")\n",
    "\n",
    "print(\"To Do List remaining\")\n",
    "for Task in to_do_list:\n",
    "    print(Task)"
   ]
  },
  {
   "cell_type": "markdown",
   "metadata": {},
   "source": [
    "##### Example 2: Organizing Student Grades\n",
    "- Create a list to store and calculate average grades for students"
   ]
  },
  {
   "cell_type": "code",
   "execution_count": 4,
   "metadata": {},
   "outputs": [
    {
     "name": "stdout",
     "output_type": "stream",
     "text": [
      "Average Grade:73.67\n",
      "Higest grade 98\n",
      "Lowes grade 98\n"
     ]
    }
   ],
   "source": [
    "# organizing student grades\n",
    "grade=[56,78,98,56,87]\n",
    "\n",
    "# Adding a new grade\n",
    "grade.append(67)\n",
    "\n",
    "# calculate the average grade\n",
    "average_grade=sum(grade) / len(grade)\n",
    "print(f\"Average Grade:{average_grade:.2f}\")\n",
    "\n",
    "# Finding the highest and lowes grades\n",
    "higest_grade=max(grade)\n",
    "lowes_grade=min(grade)\n",
    "print(f\"Higest grade {higest_grade}\")\n",
    "print(f\"Lowes grade {higest_grade}\")\n",
    "\n"
   ]
  },
  {
   "cell_type": "markdown",
   "metadata": {},
   "source": [
    "##### Example 3: Managing An Inventory\n",
    "- Use a list to manage inventory items in a store"
   ]
  },
  {
   "cell_type": "code",
   "execution_count": 7,
   "metadata": {},
   "outputs": [
    {
     "name": "stdout",
     "output_type": "stream",
     "text": [
      "orange are out of store in inventory\n",
      "inventory list\n",
      "apple\n",
      "magno\n",
      "pineapple\n"
     ]
    }
   ],
   "source": [
    "# manage inventory\n",
    "inventory=[\"orange\",\"apple\",\"magno\"]\n",
    "\n",
    "# adding a new items\n",
    "inventory.append(\"pineapple\")\n",
    "\n",
    "# Removing an items \n",
    "inventory.remove(\"orange\")\n",
    "\n",
    "\n",
    "# checking if an items is in stock\n",
    "items=\"orange\"\n",
    "if items in inventory:\n",
    "    print(f\"{items} are store in inventory\")\n",
    "else:\n",
    "    print(f\"{items} are out of store in inventory\")\n",
    "\n",
    "# print inventory list\n",
    "print(\"inventory list\")\n",
    "for item in inventory:\n",
    "    print(f\"{item}\")\n",
    "\n",
    "\n",
    "\n",
    "\n"
   ]
  },
  {
   "cell_type": "markdown",
   "metadata": {},
   "source": [
    "##### Example 4:Collecting User Feedback\n",
    "- Use a list to collect and analyze user feedback."
   ]
  },
  {
   "cell_type": "code",
   "execution_count": null,
   "metadata": {},
   "outputs": [
    {
     "name": "stdout",
     "output_type": "stream",
     "text": [
      "Positive Feedback Count: 2\n",
      "User Feedback:\n",
      "- Great service!\n",
      "- Very satisfied\n",
      "- Could be better\n",
      "- Excellent experience\n",
      "- Not happy with the service\n"
     ]
    }
   ],
   "source": [
    "# Collecting user feedback\n",
    "feedback = [\"Great service!\", \"Very satisfied\", \"Could be better\", \"Excellent experience\"]\n",
    "\n",
    "# Adding new feedback\n",
    "feedback.append(\"Not happy with the service\")\n",
    "\n",
    "# Counting specific feedback\n",
    "positive_feedback_count = sum(1 for comment in feedback if \"great\" in comment.lower() or \"excellent\" in comment.lower())\n",
    "print(f\"Positive Feedback Count: {positive_feedback_count}\")\n",
    "\n",
    "# Printing all feedback\n",
    "print(\"User Feedback:\")\n",
    "for comment in feedback:\n",
    "    print(f\"- {comment}\")"
   ]
  },
  {
   "cell_type": "code",
   "execution_count": null,
   "metadata": {},
   "outputs": [],
   "source": []
  },
  {
   "cell_type": "code",
   "execution_count": null,
   "metadata": {},
   "outputs": [],
   "source": []
  }
 ],
 "metadata": {
  "kernelspec": {
   "display_name": "Python 3",
   "language": "python",
   "name": "python3"
  },
  "language_info": {
   "codemirror_mode": {
    "name": "ipython",
    "version": 3
   },
   "file_extension": ".py",
   "mimetype": "text/x-python",
   "name": "python",
   "nbconvert_exporter": "python",
   "pygments_lexer": "ipython3",
   "version": "3.13.2"
  }
 },
 "nbformat": 4,
 "nbformat_minor": 2
}
