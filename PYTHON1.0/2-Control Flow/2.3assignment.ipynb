{
 "cells": [
  {
   "cell_type": "markdown",
   "metadata": {},
   "source": [
    "### Assignment 1: Simple if Statement\n",
    "\n",
    "Write a program that asks the user to input a number and prints whether the number is positive."
   ]
  },
  {
   "cell_type": "code",
   "execution_count": null,
   "metadata": {},
   "outputs": [
    {
     "name": "stdout",
     "output_type": "stream",
     "text": [
      "number is negative -9\n"
     ]
    }
   ],
   "source": [
    "number=int(input(\"Enter a number\"))\n",
    "if number>0:\n",
    "    print(number)"
   ]
  },
  {
   "cell_type": "markdown",
   "metadata": {},
   "source": [
    "### Assignment 2: if-else Statement\n",
    "\n",
    "Write a program that asks the user to input a number and prints whether the number is positive or negative."
   ]
  },
  {
   "cell_type": "code",
   "execution_count": 6,
   "metadata": {},
   "outputs": [
    {
     "name": "stdout",
     "output_type": "stream",
     "text": [
      "Number is positive: 89\n"
     ]
    }
   ],
   "source": [
    "number=int(input(\"Enter the number\"))\n",
    "if number>0:\n",
    "    print(\"Number is positive:\",number)\n",
    "else:\n",
    "    print(\"Number is negative:\",number)"
   ]
  },
  {
   "cell_type": "markdown",
   "metadata": {},
   "source": [
    "### Assignment 3: if-elif-else Statement\n",
    "\n",
    "Write a program that asks the user to input a number and prints whether the number is positive, negative, or zero."
   ]
  },
  {
   "cell_type": "code",
   "execution_count": 8,
   "metadata": {},
   "outputs": [
    {
     "name": "stdout",
     "output_type": "stream",
     "text": [
      "Number is negative: -3\n"
     ]
    }
   ],
   "source": [
    "number=int(input(\"Enter the number\"))\n",
    "if number>0:\n",
    "    print(\"Number is positive:\",number)\n",
    "elif number<0:\n",
    "    print(\"Number is negative:\",number)\n",
    "else:\n",
    "    print(\"Number is Zero\")\n"
   ]
  },
  {
   "cell_type": "markdown",
   "metadata": {},
   "source": [
    "### Assignment 4: Nested if Statement\n",
    "\n",
    "Write a program that asks the user to input a number and prints whether the number is positive and even, positive and odd, or negative."
   ]
  },
  {
   "cell_type": "code",
   "execution_count": 12,
   "metadata": {},
   "outputs": [
    {
     "name": "stdout",
     "output_type": "stream",
     "text": [
      "positive and odd\n"
     ]
    }
   ],
   "source": [
    "number=int(input(\"Enter the number\"))\n",
    "\n",
    "if number > 0:\n",
    "    if number % 2 == 0:\n",
    "        print(\"positive and even\")\n",
    "    else:\n",
    "        print(\"positive and odd\")\n",
    "else:\n",
    "    print(\"Number is negative\")"
   ]
  },
  {
   "cell_type": "markdown",
   "metadata": {},
   "source": [
    "## Lesson 2.2: Loops\n",
    "### Assignment 5: for Loop\n",
    "\n",
    "Write a program that prints all the numbers from 1 to 10 using a for loop."
   ]
  },
  {
   "cell_type": "code",
   "execution_count": 15,
   "metadata": {},
   "outputs": [
    {
     "name": "stdout",
     "output_type": "stream",
     "text": [
      "1\n",
      "2\n",
      "3\n",
      "4\n",
      "5\n",
      "6\n",
      "7\n",
      "8\n",
      "9\n",
      "10\n"
     ]
    }
   ],
   "source": [
    "for x in range(1,10+1):\n",
    "    print(x)"
   ]
  },
  {
   "cell_type": "markdown",
   "metadata": {},
   "source": [
    "### Assignment 6: while Loop\n",
    "\n",
    "Write a program that prints all the numbers from 1 to 10 using a while loop."
   ]
  },
  {
   "cell_type": "code",
   "execution_count": 22,
   "metadata": {},
   "outputs": [
    {
     "name": "stdout",
     "output_type": "stream",
     "text": [
      "1\n",
      "2\n",
      "3\n",
      "4\n",
      "5\n",
      "6\n",
      "7\n",
      "8\n",
      "9\n",
      "10\n"
     ]
    }
   ],
   "source": [
    "number=1\n",
    "while number<=10:\n",
    "    print(number)\n",
    "    number+=1"
   ]
  },
  {
   "cell_type": "markdown",
   "metadata": {},
   "source": [
    "### Assignment 7: Nested Loops\n",
    "\n",
    "Write a program that prints a 5x5 grid of asterisks (*) using nested loops."
   ]
  },
  {
   "cell_type": "code",
   "execution_count": 30,
   "metadata": {},
   "outputs": [
    {
     "name": "stdout",
     "output_type": "stream",
     "text": [
      "* * * * * \n",
      "* * * * * \n",
      "* * * * * \n",
      "* * * * * \n",
      "* * * * * \n"
     ]
    }
   ],
   "source": [
    "for x in range(5):\n",
    "    for j in range(5):\n",
    "        print(\"*\",end=\" \")\n",
    "    print()\n"
   ]
  },
  {
   "cell_type": "code",
   "execution_count": 32,
   "metadata": {},
   "outputs": [
    {
     "name": "stdout",
     "output_type": "stream",
     "text": [
      "@ @ @ @ @ \n",
      "@ @ @ @ @ \n",
      "@ @ @ @ @ \n",
      "@ @ @ @ @ \n",
      "@ @ @ @ @ \n"
     ]
    }
   ],
   "source": [
    "row=int(input(\"Enter the row\"))\n",
    "column=int(input(\"Enter the column\"))\n",
    "\n",
    "for x in range(row):\n",
    "    for y in range(column):\n",
    "        print(\"@\",end=\" \")\n",
    "    print()"
   ]
  },
  {
   "cell_type": "markdown",
   "metadata": {},
   "source": [
    "### Assignment 8: break Statement\n",
    "\n",
    "Write a program that asks the user to input numbers until they input 0. The program should print the sum of all the input numbers."
   ]
  },
  {
   "cell_type": "code",
   "execution_count": 39,
   "metadata": {},
   "outputs": [
    {
     "name": "stdout",
     "output_type": "stream",
     "text": [
      "The sum of all the numbers is 2408.9.\n"
     ]
    }
   ],
   "source": [
    "total = 0\n",
    "while True:\n",
    "    number = float(input(\"Enter a number (0 to stop):\"))\n",
    "    if number == 0:\n",
    "        break\n",
    "    total += number\n",
    "print(f\"The sum of all the numbers is {total}.\")"
   ]
  },
  {
   "cell_type": "markdown",
   "metadata": {},
   "source": [
    "### Assignment 9: continue Statement\n",
    "\n",
    "Write a program that prints all the numbers from 1 to 10 except 5 using a for loop and continue statement."
   ]
  },
  {
   "cell_type": "code",
   "execution_count": 41,
   "metadata": {},
   "outputs": [
    {
     "name": "stdout",
     "output_type": "stream",
     "text": [
      "1\n",
      "2\n",
      "3\n",
      "4\n",
      "6\n",
      "7\n",
      "8\n",
      "9\n",
      "10\n"
     ]
    }
   ],
   "source": [
    "for i in range(1,11):\n",
    "    if i==5:\n",
    "        continue\n",
    "    print(i)"
   ]
  },
  {
   "cell_type": "markdown",
   "metadata": {},
   "source": [
    "### Assignment 10: pass Statement\n",
    "\n",
    "Write a program that defines an empty function using the pass statement."
   ]
  },
  {
   "cell_type": "code",
   "execution_count": 42,
   "metadata": {},
   "outputs": [],
   "source": [
    "def empty_function():\n",
    "    pass\n",
    "\n",
    "# Calling the empty function\n",
    "empty_function()"
   ]
  },
  {
   "cell_type": "code",
   "execution_count": 44,
   "metadata": {},
   "outputs": [
    {
     "name": "stdout",
     "output_type": "stream",
     "text": [
      "1\n",
      "2\n",
      "3\n",
      "4\n",
      "5\n",
      "6\n",
      "7\n",
      "8\n",
      "9\n",
      "10\n"
     ]
    }
   ],
   "source": [
    "for x in range(1,10+1):\n",
    "    if x==5:\n",
    "        pass\n",
    "    print(x)\n"
   ]
  },
  {
   "cell_type": "markdown",
   "metadata": {},
   "source": [
    "### Assignment 11: Combining Loops and Conditionals\n",
    "\n",
    "Write a program that asks the user to input a number and prints all the even numbers from 1 to that number using a for loop."
   ]
  },
  {
   "cell_type": "code",
   "execution_count": 49,
   "metadata": {},
   "outputs": [
    {
     "name": "stdout",
     "output_type": "stream",
     "text": [
      "2\n",
      "4\n",
      "6\n",
      "8\n",
      "10\n",
      "12\n",
      "14\n",
      "16\n",
      "18\n",
      "20\n"
     ]
    }
   ],
   "source": [
    "number=int(input(\"Enter a number\"))\n",
    "\n",
    "for i in range(1,number+1):\n",
    "    if i%2==0:\n",
    "        print(i)"
   ]
  },
  {
   "cell_type": "markdown",
   "metadata": {},
   "source": [
    "### Assignment 12: Factorial Calculation\n",
    "\n",
    "Write a program that calculates the factorial of a number input by the user using a while loop."
   ]
  },
  {
   "cell_type": "code",
   "execution_count": 4,
   "metadata": {},
   "outputs": [
    {
     "name": "stdout",
     "output_type": "stream",
     "text": [
      "The factorial of 5 is 120\n"
     ]
    }
   ],
   "source": [
    "number=int(input(\"Enter a fac number\"))\n",
    "factorial=1\n",
    "i=1\n",
    "while(i<=number):\n",
    "    factorial*=i\n",
    "    i+=1 \n",
    "print(f\"The factorial of {number} is {factorial}\")"
   ]
  },
  {
   "cell_type": "markdown",
   "metadata": {},
   "source": [
    "### Assignment 13: Sum of Digits\n",
    "\n",
    "Write a program that calculates the sum of the digits of a number input by the user using a while loop.\n",
    "\n",
    "sum_for=n(n+1)/2"
   ]
  },
  {
   "cell_type": "code",
   "execution_count": 11,
   "metadata": {},
   "outputs": [
    {
     "name": "stdout",
     "output_type": "stream",
     "text": [
      "28\n"
     ]
    }
   ],
   "source": [
    "number=int(input(\"Enter the sum\"))\n",
    "sum=0\n",
    "i=1\n",
    "while(i<=number):\n",
    "    i+=1\n",
    "    sum=number*(number+1)//2\n",
    "print(sum)"
   ]
  },
  {
   "cell_type": "code",
   "execution_count": 12,
   "metadata": {},
   "outputs": [
    {
     "name": "stdout",
     "output_type": "stream",
     "text": [
      "Sum of first 10 natural number: 55\n"
     ]
    }
   ],
   "source": [
    "n=10   \n",
    "sum=0\n",
    "count=1\n",
    "\n",
    "while count<=n:\n",
    "    sum=sum+count\n",
    "    count=count+1\n",
    "\n",
    "print(\"Sum of first 10 natural number:\",sum)"
   ]
  },
  {
   "cell_type": "markdown",
   "metadata": {},
   "source": [
    "### Assignment 14: Prime Number Check\n",
    "\n",
    "Write a program that checks if a number input by the user is a prime number using a for loop.\n",
    "\n",
    "\n",
    "**prime number only divisible by one and itself** "
   ]
  },
  {
   "cell_type": "code",
   "execution_count": 1,
   "metadata": {},
   "outputs": [
    {
     "ename": "ValueError",
     "evalue": "invalid literal for int() with base 10: ''",
     "output_type": "error",
     "traceback": [
      "\u001b[1;31m---------------------------------------------------------------------------\u001b[0m",
      "\u001b[1;31mValueError\u001b[0m                                Traceback (most recent call last)",
      "Cell \u001b[1;32mIn[1], line 1\u001b[0m\n\u001b[1;32m----> 1\u001b[0m number\u001b[38;5;241m=\u001b[39m\u001b[38;5;28;43mint\u001b[39;49m\u001b[43m(\u001b[49m\u001b[38;5;28;43minput\u001b[39;49m\u001b[43m(\u001b[49m\u001b[38;5;124;43m\"\u001b[39;49m\u001b[38;5;124;43mEnter number for check the prime number\u001b[39;49m\u001b[38;5;124;43m\"\u001b[39;49m\u001b[43m)\u001b[49m\u001b[43m)\u001b[49m\n\u001b[0;32m      2\u001b[0m \u001b[38;5;28;01mfor\u001b[39;00m i \u001b[38;5;129;01min\u001b[39;00m \u001b[38;5;28mrange\u001b[39m(\u001b[38;5;241m1\u001b[39m,number):\n\u001b[0;32m      3\u001b[0m     \u001b[38;5;28;01mif\u001b[39;00m i\u001b[38;5;241m>\u001b[39m\u001b[38;5;241m1\u001b[39m:\n",
      "\u001b[1;31mValueError\u001b[0m: invalid literal for int() with base 10: ''"
     ]
    }
   ],
   "source": [
    "number=int(input(\"Enter number for check the prime number\"))\n",
    "for i in range(1,number):\n",
    "    if i>1:\n",
    "        for j in range(2,i):\n",
    "            if i%j==0:\n",
    "                break\n",
    "        else:\n",
    "                print(\"Prime\",i)"
   ]
  },
  {
   "cell_type": "code",
   "execution_count": 4,
   "metadata": {},
   "outputs": [
    {
     "name": "stdout",
     "output_type": "stream",
     "text": [
      "prime 3\n"
     ]
    }
   ],
   "source": [
    "number=int(input(\"Enter a number for finding prime number\"))\n",
    "for i in range(2,number):\n",
    "    if number%i==0:\n",
    "        print(\"not prime\")\n",
    "        break\n",
    "else:\n",
    "        print(\"prime\",number)"
   ]
  },
  {
   "cell_type": "markdown",
   "metadata": {},
   "source": [
    "### Assignment 15: Fibonacci Sequence\n",
    "\n",
    "Write a program that prints the first n Fibonacci numbers, where n is input by the user.\n",
    "\n",
    "**Example**[0][1][1][2][3][5][8][13][21]\n",
    "        "
   ]
  },
  {
   "cell_type": "code",
   "execution_count": null,
   "metadata": {},
   "outputs": [
    {
     "name": "stdout",
     "output_type": "stream",
     "text": [
      "1\n",
      "2\n",
      "3\n"
     ]
    }
   ],
   "source": [
    "n = int(input(\"Enter the number of Fibonacci numbers to print: \"))\n",
    "a, b = 0, 1\n",
    "count = 0\n",
    "while count < n:\n",
    "    print(a)\n",
    "    a, b = b, a + b\n",
    "    count += 1"
   ]
  },
  {
   "cell_type": "code",
   "execution_count": null,
   "metadata": {},
   "outputs": [
    {
     "name": "stdout",
     "output_type": "stream",
     "text": [
      "0 1\n",
      "1\n",
      "2\n"
     ]
    }
   ],
   "source": [
    "n = int(input(\"Enter the number of Fibonacci numbers to print: \"))\n",
    "a, b = 0, 1\n",
    "print(a)\n",
    "print(a)\n",
    "count = 2\n",
    "while count < n:\n",
    "    c=a+b\n",
    "    a=b\n",
    "    b=c\n",
    "    print(c)\n",
    "    count += 1"
   ]
  },
  {
   "cell_type": "code",
   "execution_count": null,
   "metadata": {},
   "outputs": [],
   "source": [
    "number=int(input(\"Enter a number\"))\n",
    "a=0\n",
    "b=1\n",
    "print(a)\n",
    "print(b)\n",
    "for i in range(2,number):\n",
    "    c=a+b\n",
    "    a=b\n",
    "    b=c\n",
    "    print(c)"
   ]
  },
  {
   "cell_type": "code",
   "execution_count": 29,
   "metadata": {},
   "outputs": [
    {
     "name": "stdout",
     "output_type": "stream",
     "text": [
      "0\n",
      "1\n",
      "1\n",
      "2\n",
      "3\n"
     ]
    }
   ],
   "source": [
    "def fib(n):\n",
    "    \n",
    "  a=0\n",
    "  b=1\n",
    "  print(a)\n",
    "  print(b)\n",
    "\n",
    "  for x in range(2,n):\n",
    "    c=a+b\n",
    "    a=b\n",
    "    b=c\n",
    "    print(c) \n",
    "fib(5)"
   ]
  },
  {
   "cell_type": "code",
   "execution_count": null,
   "metadata": {},
   "outputs": [],
   "source": []
  }
 ],
 "metadata": {
  "kernelspec": {
   "display_name": "Python 3",
   "language": "python",
   "name": "python3"
  },
  "language_info": {
   "codemirror_mode": {
    "name": "ipython",
    "version": 3
   },
   "file_extension": ".py",
   "mimetype": "text/x-python",
   "name": "python",
   "nbconvert_exporter": "python",
   "pygments_lexer": "ipython3",
   "version": "3.13.2"
  }
 },
 "nbformat": 4,
 "nbformat_minor": 2
}
